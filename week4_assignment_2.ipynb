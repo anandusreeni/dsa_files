{
 "cells": [
  {
   "cell_type": "markdown",
   "id": "4692ced5",
   "metadata": {},
   "source": [
    "## Assignment 2:Week 4\n",
    "#### Data: cars_data.csv"
   ]
  },
  {
   "cell_type": "markdown",
   "id": "032f73b7",
   "metadata": {},
   "source": [
    "##### Reading given dataset"
   ]
  },
  {
   "cell_type": "code",
   "execution_count": 2,
   "id": "07b4e57d",
   "metadata": {},
   "outputs": [
    {
     "data": {
      "text/html": [
       "<div>\n",
       "<style scoped>\n",
       "    .dataframe tbody tr th:only-of-type {\n",
       "        vertical-align: middle;\n",
       "    }\n",
       "\n",
       "    .dataframe tbody tr th {\n",
       "        vertical-align: top;\n",
       "    }\n",
       "\n",
       "    .dataframe thead th {\n",
       "        text-align: right;\n",
       "    }\n",
       "</style>\n",
       "<table border=\"1\" class=\"dataframe\">\n",
       "  <thead>\n",
       "    <tr style=\"text-align: right;\">\n",
       "      <th></th>\n",
       "      <th>Make</th>\n",
       "      <th>Model</th>\n",
       "      <th>Nickname</th>\n",
       "      <th>Car Gender</th>\n",
       "      <th>Buyer Gender</th>\n",
       "      <th>Buyer Age</th>\n",
       "      <th>Buzzword</th>\n",
       "      <th>Country</th>\n",
       "      <th>City</th>\n",
       "      <th>Dealer Latitude</th>\n",
       "      <th>Dealer Longitude</th>\n",
       "      <th>Color</th>\n",
       "      <th>New Car</th>\n",
       "      <th>Purchase Date</th>\n",
       "      <th>Sale Price</th>\n",
       "      <th>Discount</th>\n",
       "      <th>Resell Price</th>\n",
       "      <th>5-yr Depreciation</th>\n",
       "      <th>Top Speed</th>\n",
       "      <th>0-60 Time</th>\n",
       "    </tr>\n",
       "  </thead>\n",
       "  <tbody>\n",
       "    <tr>\n",
       "      <th>0</th>\n",
       "      <td>Suzuki</td>\n",
       "      <td>Vitara</td>\n",
       "      <td>Philippine</td>\n",
       "      <td>Female</td>\n",
       "      <td>Female</td>\n",
       "      <td>51</td>\n",
       "      <td>User-friendly</td>\n",
       "      <td>Belgium</td>\n",
       "      <td>Antwerpen</td>\n",
       "      <td>51.247239</td>\n",
       "      <td>4.440346</td>\n",
       "      <td>Yellow</td>\n",
       "      <td>False</td>\n",
       "      <td>19/07/2009</td>\n",
       "      <td>54806.14</td>\n",
       "      <td>0.2467</td>\n",
       "      <td>33858.32</td>\n",
       "      <td>0.13</td>\n",
       "      <td>200.9</td>\n",
       "      <td>11.5</td>\n",
       "    </tr>\n",
       "    <tr>\n",
       "      <th>1</th>\n",
       "      <td>Honda</td>\n",
       "      <td>S2000</td>\n",
       "      <td>Henrik</td>\n",
       "      <td>Male</td>\n",
       "      <td>Male</td>\n",
       "      <td>30</td>\n",
       "      <td>analyzing</td>\n",
       "      <td>China</td>\n",
       "      <td>Jinhu</td>\n",
       "      <td>33.025433</td>\n",
       "      <td>119.020584</td>\n",
       "      <td>Crimson</td>\n",
       "      <td>False</td>\n",
       "      <td>26/10/2015</td>\n",
       "      <td>51826.30</td>\n",
       "      <td>0.3147</td>\n",
       "      <td>2989.28</td>\n",
       "      <td>0.02</td>\n",
       "      <td>158.5</td>\n",
       "      <td>8.8</td>\n",
       "    </tr>\n",
       "    <tr>\n",
       "      <th>2</th>\n",
       "      <td>BMW</td>\n",
       "      <td>Z4</td>\n",
       "      <td>Lebbie</td>\n",
       "      <td>Male</td>\n",
       "      <td>Female</td>\n",
       "      <td>54</td>\n",
       "      <td>software</td>\n",
       "      <td>China</td>\n",
       "      <td>Gemo</td>\n",
       "      <td>30.916207</td>\n",
       "      <td>121.677640</td>\n",
       "      <td>Khaki</td>\n",
       "      <td>False</td>\n",
       "      <td>28/03/2010</td>\n",
       "      <td>82929.14</td>\n",
       "      <td>0.5414</td>\n",
       "      <td>35049.16</td>\n",
       "      <td>0.24</td>\n",
       "      <td>149.5</td>\n",
       "      <td>14.4</td>\n",
       "    </tr>\n",
       "    <tr>\n",
       "      <th>3</th>\n",
       "      <td>Toyota</td>\n",
       "      <td>Tacoma</td>\n",
       "      <td>Jefferey</td>\n",
       "      <td>Female</td>\n",
       "      <td>Male</td>\n",
       "      <td>68</td>\n",
       "      <td>monitoring</td>\n",
       "      <td>Portugal</td>\n",
       "      <td>Queluz de Baixo</td>\n",
       "      <td>38.745168</td>\n",
       "      <td>-9.267087</td>\n",
       "      <td>Puce</td>\n",
       "      <td>False</td>\n",
       "      <td>07/05/2008</td>\n",
       "      <td>56928.66</td>\n",
       "      <td>0.0850</td>\n",
       "      <td>8236.15</td>\n",
       "      <td>0.20</td>\n",
       "      <td>153.3</td>\n",
       "      <td>11.5</td>\n",
       "    </tr>\n",
       "    <tr>\n",
       "      <th>4</th>\n",
       "      <td>Ford</td>\n",
       "      <td>Festiva</td>\n",
       "      <td>Glendon</td>\n",
       "      <td>Female</td>\n",
       "      <td>Male</td>\n",
       "      <td>70</td>\n",
       "      <td>Sharable</td>\n",
       "      <td>Latvia</td>\n",
       "      <td>Jaunpils</td>\n",
       "      <td>56.729980</td>\n",
       "      <td>23.016588</td>\n",
       "      <td>Yellow</td>\n",
       "      <td>False</td>\n",
       "      <td>01/06/2008</td>\n",
       "      <td>77201.26</td>\n",
       "      <td>0.1642</td>\n",
       "      <td>32765.76</td>\n",
       "      <td>0.18</td>\n",
       "      <td>122.0</td>\n",
       "      <td>14.9</td>\n",
       "    </tr>\n",
       "  </tbody>\n",
       "</table>\n",
       "</div>"
      ],
      "text/plain": [
       "     Make    Model    Nickname Car Gender Buyer Gender  Buyer Age  \\\n",
       "0  Suzuki   Vitara  Philippine     Female       Female         51   \n",
       "1   Honda    S2000      Henrik       Male         Male         30   \n",
       "2     BMW       Z4      Lebbie       Male       Female         54   \n",
       "3  Toyota   Tacoma    Jefferey     Female         Male         68   \n",
       "4    Ford  Festiva     Glendon     Female         Male         70   \n",
       "\n",
       "        Buzzword   Country             City  Dealer Latitude  \\\n",
       "0  User-friendly   Belgium        Antwerpen        51.247239   \n",
       "1      analyzing     China            Jinhu        33.025433   \n",
       "2       software     China             Gemo        30.916207   \n",
       "3     monitoring  Portugal  Queluz de Baixo        38.745168   \n",
       "4       Sharable    Latvia         Jaunpils        56.729980   \n",
       "\n",
       "   Dealer Longitude    Color  New Car Purchase Date  Sale Price  Discount  \\\n",
       "0          4.440346   Yellow    False    19/07/2009    54806.14    0.2467   \n",
       "1        119.020584  Crimson    False    26/10/2015    51826.30    0.3147   \n",
       "2        121.677640    Khaki    False    28/03/2010    82929.14    0.5414   \n",
       "3         -9.267087     Puce    False    07/05/2008    56928.66    0.0850   \n",
       "4         23.016588   Yellow    False    01/06/2008    77201.26    0.1642   \n",
       "\n",
       "   Resell Price  5-yr Depreciation  Top Speed  0-60 Time  \n",
       "0      33858.32               0.13      200.9       11.5  \n",
       "1       2989.28               0.02      158.5        8.8  \n",
       "2      35049.16               0.24      149.5       14.4  \n",
       "3       8236.15               0.20      153.3       11.5  \n",
       "4      32765.76               0.18      122.0       14.9  "
      ]
     },
     "execution_count": 2,
     "metadata": {},
     "output_type": "execute_result"
    }
   ],
   "source": [
    "import numpy as np\n",
    "import pandas as pd\n",
    "import matplotlib.pyplot as plt\n",
    "import seaborn as sns\n",
    "\n",
    "data=pd.read_csv('cars_data.csv')\n",
    "data.head()"
   ]
  },
  {
   "cell_type": "markdown",
   "id": "f4339950",
   "metadata": {},
   "source": [
    "##### Checking Null values"
   ]
  },
  {
   "cell_type": "code",
   "execution_count": 3,
   "id": "f35166dc",
   "metadata": {},
   "outputs": [
    {
     "data": {
      "text/plain": [
       "Make                 0\n",
       "Model                0\n",
       "Nickname             0\n",
       "Car Gender           0\n",
       "Buyer Gender         0\n",
       "Buyer Age            0\n",
       "Buzzword             0\n",
       "Country              0\n",
       "City                 0\n",
       "Dealer Latitude      0\n",
       "Dealer Longitude     0\n",
       "Color                0\n",
       "New Car              0\n",
       "Purchase Date        0\n",
       "Sale Price           0\n",
       "Discount             0\n",
       "Resell Price         0\n",
       "5-yr Depreciation    0\n",
       "Top Speed            0\n",
       "0-60 Time            0\n",
       "dtype: int64"
      ]
     },
     "execution_count": 3,
     "metadata": {},
     "output_type": "execute_result"
    }
   ],
   "source": [
    "data.isnull().sum()"
   ]
  },
  {
   "cell_type": "markdown",
   "id": "883de99b",
   "metadata": {},
   "source": [
    "No null values found in the dataset"
   ]
  },
  {
   "cell_type": "markdown",
   "id": "6db4c7be",
   "metadata": {},
   "source": [
    "##### Gender wise comparison of buyers"
   ]
  },
  {
   "cell_type": "code",
   "execution_count": 33,
   "id": "6de1d468",
   "metadata": {},
   "outputs": [
    {
     "data": {
      "text/plain": [
       "Text(0.5, 1.0, 'Female Buyers vs Male buyers')"
      ]
     },
     "execution_count": 33,
     "metadata": {},
     "output_type": "execute_result"
    },
    {
     "data": {
      "image/png": "[encoded data removed]",
      "text/plain": [
       "<Figure size 792x576 with 1 Axes>"
      ]
     },
     "metadata": {
      "needs_background": "light"
     },
     "output_type": "display_data"
    }
   ],
   "source": [
    "grouped=data.groupby('Car Gender')\n",
    "genderCount=grouped['Car Gender'].count()\n",
    "plt.figure(figsize=(11,8))\n",
    "genderCount.plot.bar(color='b')\n",
    "plt.grid(True)\n",
    "plt.title('Female Buyers vs Male buyers')"
   ]
  },
  {
   "cell_type": "markdown",
   "id": "db45d98f",
   "metadata": {},
   "source": [
    "Female buyers count is more than that of male buyers"
   ]
  },
  {
   "cell_type": "markdown",
   "id": "5c13dcd8",
   "metadata": {},
   "source": [
    "##### Top 5 car models based on sale price"
   ]
  },
  {
   "cell_type": "code",
   "execution_count": 61,
   "id": "c8efc7c8",
   "metadata": {
    "scrolled": true
   },
   "outputs": [
    {
     "data": {
      "text/html": [
       "<style  type=\"text/css\" >\n",
       "    #T_8137a_  {\n",
       "          border: 2px solid green;\n",
       "    }</style><table id=\"T_8137a_\" ><thead>    <tr>        <th class=\"col_heading level0 col0\" >Make</th>        <th class=\"col_heading level0 col1\" >Model</th>    </tr></thead><tbody>\n",
       "                <tr>\n",
       "                                <td id=\"T_8137a_row0_col0\" class=\"data row0 col0\" >Volkswagen</td>\n",
       "                        <td id=\"T_8137a_row0_col1\" class=\"data row0 col1\" >Jetta III</td>\n",
       "            </tr>\n",
       "            <tr>\n",
       "                                <td id=\"T_8137a_row1_col0\" class=\"data row1 col0\" >Audi</td>\n",
       "                        <td id=\"T_8137a_row1_col1\" class=\"data row1 col1\" >A6</td>\n",
       "            </tr>\n",
       "            <tr>\n",
       "                                <td id=\"T_8137a_row2_col0\" class=\"data row2 col0\" >Lexus</td>\n",
       "                        <td id=\"T_8137a_row2_col1\" class=\"data row2 col1\" >LX</td>\n",
       "            </tr>\n",
       "            <tr>\n",
       "                                <td id=\"T_8137a_row3_col0\" class=\"data row3 col0\" >Mazda</td>\n",
       "                        <td id=\"T_8137a_row3_col1\" class=\"data row3 col1\" >MX-6</td>\n",
       "            </tr>\n",
       "            <tr>\n",
       "                                <td id=\"T_8137a_row4_col0\" class=\"data row4 col0\" >Lexus</td>\n",
       "                        <td id=\"T_8137a_row4_col1\" class=\"data row4 col1\" >ES</td>\n",
       "            </tr>\n",
       "    </tbody></table>"
      ],
      "text/plain": [
       "<pandas.io.formats.style.Styler at 0x23e4846aa60>"
      ]
     },
     "execution_count": 61,
     "metadata": {},
     "output_type": "execute_result"
    }
   ],
   "source": [
    "df=data.sort_values('Sale Price',ascending=False).head(5)[['Make','Model']]\n",
    "df.style.set_table_styles([{'selector' : '',\n",
    "                            'props' : [('border',\n",
    "                                        '2px solid green')]}]).hide_index()"
   ]
  },
  {
   "cell_type": "markdown",
   "id": "89b29bdd",
   "metadata": {},
   "source": [
    "##### Last 5 car models based on resell price"
   ]
  },
  {
   "cell_type": "code",
   "execution_count": 60,
   "id": "6f6285b3",
   "metadata": {},
   "outputs": [
    {
     "data": {
      "text/html": [
       "<style  type=\"text/css\" >\n",
       "    #T_b3404_  {\n",
       "          border: 2px solid green;\n",
       "    }</style><table id=\"T_b3404_\" ><thead>    <tr>        <th class=\"col_heading level0 col0\" >Make</th>        <th class=\"col_heading level0 col1\" >Model</th>    </tr></thead><tbody>\n",
       "                <tr>\n",
       "                                <td id=\"T_b3404_row0_col0\" class=\"data row0 col0\" >Chevrolet</td>\n",
       "                        <td id=\"T_b3404_row0_col1\" class=\"data row0 col1\" >1500</td>\n",
       "            </tr>\n",
       "            <tr>\n",
       "                                <td id=\"T_b3404_row1_col0\" class=\"data row1 col0\" >GMC</td>\n",
       "                        <td id=\"T_b3404_row1_col1\" class=\"data row1 col1\" >Savana 1500</td>\n",
       "            </tr>\n",
       "            <tr>\n",
       "                                <td id=\"T_b3404_row2_col0\" class=\"data row2 col0\" >Jaguar</td>\n",
       "                        <td id=\"T_b3404_row2_col1\" class=\"data row2 col1\" >XF</td>\n",
       "            </tr>\n",
       "            <tr>\n",
       "                                <td id=\"T_b3404_row3_col0\" class=\"data row3 col0\" >Mitsubishi</td>\n",
       "                        <td id=\"T_b3404_row3_col1\" class=\"data row3 col1\" >3000GT</td>\n",
       "            </tr>\n",
       "            <tr>\n",
       "                                <td id=\"T_b3404_row4_col0\" class=\"data row4 col0\" >Infiniti</td>\n",
       "                        <td id=\"T_b3404_row4_col1\" class=\"data row4 col1\" >G37</td>\n",
       "            </tr>\n",
       "    </tbody></table>"
      ],
      "text/plain": [
       "<pandas.io.formats.style.Styler at 0x23e4846a4f0>"
      ]
     },
     "execution_count": 60,
     "metadata": {},
     "output_type": "execute_result"
    }
   ],
   "source": [
    "df=data.sort_values('Resell Price',ascending=True).head(5)[['Make','Model']]\n",
    "df.style.set_table_styles([{'selector' : '',\n",
    "                            'props' : [('border',\n",
    "                                        '2px solid green')]}]).hide_index()"
   ]
  }
 ],
 "metadata": {
  "kernelspec": {
   "display_name": "Python 3",
   "language": "python",
   "name": "python3"
  },
  "language_info": {
   "codemirror_mode": {
    "name": "ipython",
    "version": 3
   },
   "file_extension": ".py",
   "mimetype": "text/x-python",
   "name": "python",
   "nbconvert_exporter": "python",
   "pygments_lexer": "ipython3",
   "version": "3.8.8"
  }
 },
 "nbformat": 4,
 "nbformat_minor": 5
}
