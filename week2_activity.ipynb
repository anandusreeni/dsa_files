{
  "nbformat": 4,
  "nbformat_minor": 0,
  "metadata": {
    "kernelspec": {
      "display_name": "Python 3",
      "language": "python",
      "name": "python3"
    },
    "language_info": {
      "codemirror_mode": {
        "name": "ipython",
        "version": 3
      },
      "file_extension": ".py",
      "mimetype": "text/x-python",
      "name": "python",
      "nbconvert_exporter": "python",
      "pygments_lexer": "ipython3",
      "version": "3.7.6"
    },
    "colab": {
      "name": "Q&A_activity_student_file.ipynb",
      "provenance": [],
      "collapsed_sections": []
    }
  },
  "cells": [
    {
      "cell_type": "markdown",
      "metadata": {
        "id": "4z_Z-K1tlrS7"
      },
      "source": [
        "## 1. Complete the following code to find the area of an equilateral triangle. Output should be as displayed"
      ]
    },
    {
      "cell_type": "code",
      "metadata": {
        "id": "rP2qFD_SlrS_",
        "colab": {
          "base_uri": "https://localhost:8080/"
        },
        "outputId": "845547c2-e111-4600-cd08-2f79d90d6751"
      },
      "source": [
        "import math\n",
        "side = float(input(\"Enter the side of the equilateral triangle: \"))\n",
        "area = (math.sqrt(3)/4)*pow(side,2)\n",
        "print(\"Area:\",area)\n"
      ],
      "execution_count": 14,
      "outputs": [
        {
          "output_type": "stream",
          "name": "stdout",
          "text": [
            "Enter the side of the equilateral triangle: 4\n",
            "Area: 6.928203230275509\n"
          ]
        }
      ]
    },
    {
      "cell_type": "markdown",
      "metadata": {
        "id": "TjVKjIfclrTB"
      },
      "source": [
        "## 2. Write a program to count the number of each characters in a string"
      ]
    },
    {
      "cell_type": "code",
      "metadata": {
        "id": "JY5seVUQlrTC",
        "colab": {
          "base_uri": "https://localhost:8080/"
        },
        "outputId": "1eab87ce-e3d2-438f-de84-7d1683510f37"
      },
      "source": [
        "uniq_ch=list(set(str(input(\"String=\")).replace(\" \",\"\").lower()))\n",
        "uniq_ch.sort()\n",
        "for i in uniq_ch:\n",
        "    print(\"{0}:{1}\".format(i,s.count(i)), end=\"\" if i==uniq_ch[-1]  else \",\")"
      ],
      "execution_count": 23,
      "outputs": [
        {
          "output_type": "stream",
          "name": "stdout",
          "text": [
            "String=Hello world the World Hi\n",
            "d:1,e:1,h:2,i:0,l:3,o:3,r:1,t:1,w:1"
          ]
        }
      ]
    },
    {
      "cell_type": "markdown",
      "metadata": {
        "id": "l3LCULfklrTD"
      },
      "source": [
        "## Write a program to find the area and perimeter of a rectangle using functions"
      ]
    },
    {
      "cell_type": "code",
      "metadata": {
        "id": "8haQD8edlrTD",
        "colab": {
          "base_uri": "https://localhost:8080/"
        },
        "outputId": "c523587e-a313-4a16-9943-e619b3183cfe"
      },
      "source": [
        "def ops(l,b):\n",
        "  print(\"area:\",l*b)\n",
        "  print(\"perimeter:\",2*(l+b))\n",
        "\n",
        "len=int(input(\"Length:\"))\n",
        "bre=int(input(\"breadth:\"))\n",
        "ops(len,bre)"
      ],
      "execution_count": 1,
      "outputs": [
        {
          "output_type": "stream",
          "name": "stdout",
          "text": [
            "Length:3\n",
            "breadth:4\n",
            "area: 12\n",
            "perimeter: 14\n"
          ]
        }
      ]
    },
    {
      "cell_type": "markdown",
      "metadata": {
        "id": "JHK4ZdsflrTE"
      },
      "source": [
        "## 4. Write a program to print the fibonacci series till a specified number"
      ]
    },
    {
      "cell_type": "code",
      "metadata": {
        "id": "LyBEj-4SlrTE",
        "colab": {
          "base_uri": "https://localhost:8080/"
        },
        "outputId": "3d7028d2-d4a6-4906-bb86-1a8c5b095c43"
      },
      "source": [
        "n=int(input(\"fibonacci series till:\"))\n",
        "term_1=0\n",
        "term_2=1\n",
        "term_3=1\n",
        "while term_1 < n:\n",
        "    print(term_1, end = \" \")\n",
        "    term_1=term_2\n",
        "    term_2=term_3\n",
        "    term_3=term_1+term_2"
      ],
      "execution_count": 7,
      "outputs": [
        {
          "output_type": "stream",
          "name": "stdout",
          "text": [
            "fibonacci series till:34\n",
            "0 1 1 2 3 5 8 13 21 "
          ]
        }
      ]
    },
    {
      "cell_type": "markdown",
      "metadata": {
        "id": "u4uBUcQKlrTE"
      },
      "source": [
        "## 5. Complete the following code to find the minimum of 3 number using cinditional statements. Output should be as displayed"
      ]
    },
    {
      "cell_type": "code",
      "metadata": {
        "id": "XdZwrZjIlrTF",
        "colab": {
          "base_uri": "https://localhost:8080/"
        },
        "outputId": "2ceffe68-1ff1-45d8-f454-334eda9941c6"
      },
      "source": [
        "a,b,c = input(\"Enter three numbers followed by  : \").split()\n",
        "print(\"First number :\",a)\n",
        "print(\"Second number :\",b)\n",
        "print(\"Third number :\",c)\n",
        "if a==b==c:\n",
        "    print(\"Entered numbers are equal!!!\")\n",
        "else:\n",
        "    print(min(a,b,c),\"is smallest\")"
      ],
      "execution_count": 37,
      "outputs": [
        {
          "output_type": "stream",
          "name": "stdout",
          "text": [
            "Enter three numbers followed by  : 2 3 5\n",
            "First number : 2\n",
            "Second number : 3\n",
            "Third number : 5\n",
            "2 is smallest\n"
          ]
        }
      ]
    },
    {
      "cell_type": "markdown",
      "metadata": {
        "id": "aR_CnToWlrTG"
      },
      "source": [
        "## 6. Write a program to print star pyramind. The number of rows should be taken as input from the user"
      ]
    },
    {
      "cell_type": "code",
      "metadata": {
        "id": "M37A-buplrTG",
        "colab": {
          "base_uri": "https://localhost:8080/"
        },
        "outputId": "e6d4727a-c20e-4c17-dc0f-81e2815afc52"
      },
      "source": [
        "n=int(input(\"Number of lines:\"))\n",
        "for i in range (1,n+1):\n",
        "    for j in range (n-i):\n",
        "        print(\" \",end=\"\")\n",
        "    for j in range (i):\n",
        "        print(\"* \",end=\"\")\n",
        "    print(\"\")"
      ],
      "execution_count": 51,
      "outputs": [
        {
          "output_type": "stream",
          "name": "stdout",
          "text": [
            "Number of lines:6\n",
            "     * \n",
            "    * * \n",
            "   * * * \n",
            "  * * * * \n",
            " * * * * * \n",
            "* * * * * * \n"
          ]
        }
      ]
    },
    {
      "cell_type": "markdown",
      "metadata": {
        "id": "tlY6aFWBlrTH"
      },
      "source": [
        "## 7. Complete the following code to convert hour into seconds. Output should be as displayed"
      ]
    },
    {
      "cell_type": "code",
      "metadata": {
        "id": "YOZQFk7FlrTH",
        "colab": {
          "base_uri": "https://localhost:8080/"
        },
        "outputId": "d7d0a3ad-d236-4930-e8cd-a77aa9f34e17"
      },
      "source": [
        "def to_seconds(t):\n",
        "    t=t*60*60\n",
        "    return t\n",
        "time_in_hours = int(input(\"Hour:\"))\n",
        "print(time_in_hours ,\" Hour is equal to\" ,to_seconds(time_in_hours) ,\" Seconds\")"
      ],
      "execution_count": 52,
      "outputs": [
        {
          "output_type": "stream",
          "name": "stdout",
          "text": [
            "Hour:12\n",
            "12  Hour is equal to 43200  Seconds\n"
          ]
        }
      ]
    },
    {
      "cell_type": "markdown",
      "metadata": {
        "id": "CnYorNiLlrTI"
      },
      "source": [
        "## 8. Write a program to print multiplication table as below"
      ]
    },
    {
      "cell_type": "code",
      "metadata": {
        "id": "dPQqDPuDlrTI",
        "colab": {
          "base_uri": "https://localhost:8080/"
        },
        "outputId": "0d1a50d2-b218-4434-ab0a-12149f4583bd"
      },
      "source": [
        "n=int(input(\"Enter a number to find the multiplication table:\"))\n",
        "for i in range (1,11):\n",
        "  print(\"{0} X {1} = {2}\".format(i,n,i*n))"
      ],
      "execution_count": 8,
      "outputs": [
        {
          "output_type": "stream",
          "name": "stdout",
          "text": [
            "Enter a number to find the multiplication table:4\n",
            "1 X 4 = 4\n",
            "2 X 4 = 8\n",
            "3 X 4 = 12\n",
            "4 X 4 = 16\n",
            "5 X 4 = 20\n",
            "6 X 4 = 24\n",
            "7 X 4 = 28\n",
            "8 X 4 = 32\n",
            "9 X 4 = 36\n",
            "10 X 4 = 40\n"
          ]
        }
      ]
    },
    {
      "cell_type": "markdown",
      "metadata": {
        "id": "Fiaez8iblrTI"
      },
      "source": [
        "## 9. Write a program to take your 5 favorite food as list and print each as 'I like Biriyani'"
      ]
    },
    {
      "cell_type": "code",
      "metadata": {
        "id": "39W1zFX7lrTJ",
        "colab": {
          "base_uri": "https://localhost:8080/"
        },
        "outputId": "b643de2b-6f29-4e0b-89dd-c493934808f5"
      },
      "source": [
        "foods=list(map(str,input().split()))\n",
        "for i in foods:\n",
        "  print(\"I like\",i)"
      ],
      "execution_count": 43,
      "outputs": [
        {
          "output_type": "stream",
          "name": "stdout",
          "text": [
            "biriyani icecream coffee cake\n",
            "I like biriyani\n",
            "I like icecream\n",
            "I like coffee\n",
            "I like cake\n"
          ]
        }
      ]
    },
    {
      "cell_type": "markdown",
      "metadata": {
        "id": "3vlcDNNEP7d_"
      },
      "source": [
        "## 10. Find error(s) in the following code(if any) and rewrite code.\n",
        "\n"
      ]
    },
    {
      "cell_type": "code",
      "metadata": {
        "id": "coREkcY3P9sG",
        "colab": {
          "base_uri": "https://localhost:8080/"
        },
        "outputId": "63590952-4c4c-444b-f2cc-b1d207a3f16e"
      },
      "source": [
        "x= int(input(\"Enter value of x:\"))\n",
        "for i in range (0,10):\n",
        "     if x==i:\n",
        "          print(\"{0},{1}:They are equal\".format(x,i))\n",
        "     else:\n",
        "          print( \"{0},{1}:They are unequal\".format(x,i))"
      ],
      "execution_count": 15,
      "outputs": [
        {
          "output_type": "stream",
          "name": "stdout",
          "text": [
            "Enter value of x:4\n",
            "4,0:They are unequal\n",
            "4,1:They are unequal\n",
            "4,2:They are unequal\n",
            "4,3:They are unequal\n",
            "4,4:They are equal\n",
            "4,5:They are unequal\n",
            "4,6:They are unequal\n",
            "4,7:They are unequal\n",
            "4,8:They are unequal\n",
            "4,9:They are unequal\n"
          ]
        }
      ]
    }
  ]
}